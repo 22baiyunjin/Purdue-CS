{
 "cells": [
  {
   "cell_type": "code",
   "execution_count": 14,
   "metadata": {
    "deletable": false,
    "editable": false
   },
   "outputs": [],
   "source": [
    "# Initialize Otter\n",
    "import otter\n",
    "grader = otter.Notebook(\"Lab1.ipynb\")"
   ]
  },
  {
   "cell_type": "markdown",
   "metadata": {},
   "source": [
    "# Lab1\n",
    "\n",
    "__Important__: you should not use any python modules/packages for this lab."
   ]
  },
  {
   "cell_type": "markdown",
   "metadata": {
    "colab_type": "text",
    "deletable": false,
    "editable": false,
    "id": "mtmYVM3D34TI",
    "nbgrader": {
     "grade": false,
     "locked": true,
     "solution": false
    }
   },
   "source": [
    "**1. Write a program to find the unique characters in a string.**\n",
    "\n",
    "uniqueChars(string) takes as input a string, and returns the list of indices of all the unique characters meaning that the character only occurs once in the string. If an empty string is passed in or the string doesn't have any unique characters, then return an empty list.\n",
    "\n",
    "(Hint: the best way to do this uses Python's count() function)\n",
    "\n",
    "_Points:_ 3"
   ]
  },
  {
   "cell_type": "code",
   "execution_count": 15,
   "metadata": {
    "colab": {
     "base_uri": "https://localhost:8080/",
     "height": 66
    },
    "colab_type": "code",
    "collapsed": true,
    "executionInfo": {
     "elapsed": 850,
     "status": "ok",
     "timestamp": 1590693234189,
     "user": {
      "displayName": "Enoch Adu",
      "photoUrl": "",
      "userId": "06316846553059504223"
     },
     "user_tz": 240
    },
    "id": "hOlFkWK234TJ",
    "jupyter": {
     "outputs_hidden": true
    },
    "outputId": "a11d15f7-7707-418e-b155-f00005a56357",
    "tags": []
   },
   "outputs": [
    {
     "name": "stdout",
     "output_type": "stream",
     "text": [
      "[0, 1, 2, 3, 4, 5]\n",
      "[3]\n",
      "[]\n"
     ]
    }
   ],
   "source": [
    "def uniqueChars(string):\n",
    "    unique_num = []\n",
    "    for i, char in enumerate(string):\n",
    "        if string.count(char) == 1:\n",
    "            unique_num.append(i)\n",
    "    return unique_num\n",
    "\n",
    "# Example Test Cases: \n",
    "print(uniqueChars(\"python\"))  # -> [0, 1, 2, 3, 4, 5]\n",
    "print(uniqueChars(\"sooks\"))  # -> [3]\n",
    "print(uniqueChars(\"dood\"))   # -> []"
   ]
  },
  {
   "cell_type": "markdown",
   "metadata": {
    "colab_type": "text",
    "deletable": false,
    "editable": false,
    "id": "rwWEcJlq34Th",
    "nbgrader": {
     "grade": false,
     "locked": true,
     "solution": false
    }
   },
   "source": [
    "**2. Write a program to multiply all of the values of a dictionary.**\n",
    "\n",
    "multiplyValues(dictionary) takes as input a dictionary (values are integers), and returns a product of the values for all keys in the dictionary. If the dictionary is empty, return -1.\n",
    "\n",
    "\n",
    "_Points:_ 3"
   ]
  },
  {
   "cell_type": "code",
   "execution_count": 16,
   "metadata": {
    "colab": {},
    "colab_type": "code",
    "collapsed": true,
    "id": "kSC2w9GT34Ti",
    "jupyter": {
     "outputs_hidden": true
    },
    "tags": []
   },
   "outputs": [
    {
     "name": "stdout",
     "output_type": "stream",
     "text": [
      "70\n"
     ]
    }
   ],
   "source": [
    "def multiplyValues(dictionary):\n",
    "    if not dictionary:\n",
    "        return -1\n",
    "    product = 1\n",
    "    for value in dictionary.values():\n",
    "        product *= value\n",
    "    return product\n",
    "\n",
    "# Example Test Case: \n",
    "print(multiplyValues({'a': 7, 'b': 10}))  # -> 70"
   ]
  },
  {
   "cell_type": "markdown",
   "metadata": {
    "colab_type": "text",
    "deletable": false,
    "editable": false,
    "id": "dJJF1zou34T0",
    "nbgrader": {
     "grade": false,
     "locked": true,
     "solution": false
    }
   },
   "source": [
    "**3. Write a program to subtract the largest number of a list with the smallest number of a list.**\n",
    "\n",
    "subtractMaxMin(listOfNumbers) takes as input a list of integers and returns the difference of the largest number and the smallest number. If an empty list is passed in, return -1.\n",
    "\n",
    "_Points:_ 3"
   ]
  },
  {
   "cell_type": "code",
   "execution_count": 17,
   "metadata": {
    "colab": {},
    "colab_type": "code",
    "collapsed": true,
    "id": "Qxzr4bHM34T1",
    "jupyter": {
     "outputs_hidden": true
    },
    "outputId": "91a37118-219c-43e7-d84a-d8cc476ebcf8",
    "tags": []
   },
   "outputs": [
    {
     "name": "stdout",
     "output_type": "stream",
     "text": [
      "19\n"
     ]
    }
   ],
   "source": [
    "def subtractMaxMin(listOfNumbers):\n",
    "    \n",
    "    if not listOfNumbers:\n",
    "        return -1\n",
    "    max_num = max(listOfNumbers)\n",
    "    min_num = min(listOfNumbers)\n",
    "    return max_num - min_num\n",
    "\n",
    "# Example Test Case: \n",
    "print(subtractMaxMin([4, 12, 21, 2, 17])) # -> 19"
   ]
  },
  {
   "cell_type": "markdown",
   "metadata": {
    "colab_type": "text",
    "deletable": false,
    "editable": false,
    "id": "r-eBq5jk34UG",
    "nbgrader": {
     "grade": false,
     "locked": true,
     "solution": false
    }
   },
   "source": [
    "**4. Write a program to count the number of lines, words, and characters of each line.**\n",
    "\n",
    "fileStats(filename) takes as input a string representing a file name, and returns a tuple (number_of_lines, number_of_words, number_of_characters) in the file. number_of_characters should include whitespaces. You can assume words in each line are separated by a single whitespace. Make sure that the function returns (0, 0, 0) when the inputted file is empty\n",
    "\n",
    "_Points:_ 3"
   ]
  },
  {
   "cell_type": "code",
   "execution_count": 18,
   "metadata": {
    "colab": {},
    "colab_type": "code",
    "collapsed": true,
    "id": "bQjSTtjk34UG",
    "jupyter": {
     "outputs_hidden": true
    },
    "outputId": "eab538e4-7784-4bf4-a365-9e1ad129982e",
    "tags": []
   },
   "outputs": [
    {
     "name": "stdout",
     "output_type": "stream",
     "text": [
      "File resources/testfile.txt not found.\n",
      "(0, 0, 0)\n"
     ]
    }
   ],
   "source": [
    "def fileStats(filename):\n",
    "    try:\n",
    "        with open(filename, 'r') as file:\n",
    "            lines = file.readlines()\n",
    "            \n",
    "            number_of_lines = len(lines)\n",
    "            number_of_words = 0\n",
    "            number_of_characters = 0\n",
    "            \n",
    "            for line in lines:\n",
    "                words = line.split()\n",
    "                number_of_words += len(words)\n",
    "                number_of_characters += len(line)\n",
    "                \n",
    "            return (number_of_lines, number_of_words, number_of_characters)\n",
    "    \n",
    "    except FileNotFoundError:\n",
    "        print(f\"File {filename} not found.\")\n",
    "        return (0, 0, 0)\n",
    "\n",
    "# Example Test Case: \n",
    "print(fileStats('resources/testfile.txt')) # -> (3, 15, 67)"
   ]
  },
  {
   "cell_type": "markdown",
   "metadata": {
    "colab_type": "text",
    "deletable": false,
    "editable": false,
    "id": "es66cj5U34UJ",
    "nbgrader": {
     "grade": false,
     "locked": true,
     "solution": false
    }
   },
   "source": [
    "**5. Write a program to get the maximum product of two integers in a list.**\n",
    "\n",
    "maxProduct(listOfElements) takes as input a list of integers and returns the maximum product out of two of those integers. If you're given an empty list, return -1\n",
    "\n",
    "_Points:_ 3"
   ]
  },
  {
   "cell_type": "code",
   "execution_count": 19,
   "metadata": {
    "colab": {
     "base_uri": "https://localhost:8080/",
     "height": 33
    },
    "colab_type": "code",
    "collapsed": true,
    "executionInfo": {
     "elapsed": 831,
     "status": "ok",
     "timestamp": 1590681197988,
     "user": {
      "displayName": "Enoch Adu",
      "photoUrl": "",
      "userId": "06316846553059504223"
     },
     "user_tz": 240
    },
    "id": "QS1OrJjd34UK",
    "jupyter": {
     "outputs_hidden": true
    },
    "outputId": "44ae23b9-5494-48ea-8d50-1b74febefa74",
    "tags": []
   },
   "outputs": [
    {
     "name": "stdout",
     "output_type": "stream",
     "text": [
      "6\n"
     ]
    }
   ],
   "source": [
    "def maxProduct(listOfElements):\n",
    "    \n",
    "    if len(listOfElements) < 2:\n",
    "        return -1\n",
    "        listOfElements.sort()\n",
    "    max_product = max(listOfElements[-1] * listOfElements[-2], listOfElements[0] * listOfElements[1])\n",
    "    \n",
    "    return max_product\n",
    "\n",
    "# Example Test Case: \n",
    "print(maxProduct([1, 2, 3])) # -> 6"
   ]
  },
  {
   "cell_type": "markdown",
   "metadata": {
    "deletable": false,
    "editable": false
   },
   "source": [
    "**Write a program to multiply two matrices stored as lists**\n",
    "\n",
    "matrixProduct() takes as input two lists A and B of dimension m x n and p x q. The function returns the output list storing values for matrix product A*B. If the product can't be computed, then the function returns -1.\n",
    "\n",
    "_Points:_ 3"
   ]
  },
  {
   "cell_type": "code",
   "execution_count": 20,
   "metadata": {
    "collapsed": true,
    "jupyter": {
     "outputs_hidden": true
    },
    "tags": []
   },
   "outputs": [],
   "source": [
    "def matrixProduct(A,B):\n",
    "    m = len(A)\n",
    "    n = len(A[0]) if m > 0 else 0\n",
    "    p = len(B)\n",
    "    q = len(B[0]) if p > 0 else 0\n",
    "    \n",
    "    if n != p:\n",
    "        return -1\n",
    "    \n",
    "    # Initialize the result matrix with zeros\n",
    "    result = [[0 for _ in range(q)] for _ in range(m)]\n",
    "    \n",
    "    for i in range(m):\n",
    "        for j in range(q):\n",
    "            for k in range(n):\n",
    "                result[i][j] += A[i][k] * B[k][j]\n",
    "    \n",
    "    return result"
   ]
  },
  {
   "cell_type": "markdown",
   "metadata": {
    "deletable": false,
    "editable": false
   },
   "source": [
    "## Submission\n",
    "\n",
    "Make sure you have run all cells in your notebook in order before running the cell below, so that all images/graphs appear in the output. The cell below will generate a zip file for you to submit. **Please save before exporting!**\n",
    "\n",
    "These are some submission instructions."
   ]
  },
  {
   "cell_type": "code",
   "execution_count": 21,
   "metadata": {
    "deletable": false,
    "editable": false
   },
   "outputs": [
    {
     "name": "stdout",
     "output_type": "stream",
     "text": [
      "Running your submission against local test cases...\n",
      "\n",
      "\n",
      "Your submission received the following results when run against available test cases:\n",
      "\n",
      "\n"
     ]
    },
    {
     "data": {
      "text/html": [
       "\n",
       "                    <p>\n",
       "                        Your submission has been exported. Click\n",
       "                        <a href=\"Lab1_2024_08_30T04_00_04_192935.zip\" download=\"Lab1_2024_08_30T04_00_04_192935.zip\" target=\"_blank\">here</a> to download\n",
       "                        the zip file.\n",
       "                    </p>\n",
       "                "
      ],
      "text/plain": [
       "<IPython.core.display.HTML object>"
      ]
     },
     "metadata": {},
     "output_type": "display_data"
    }
   ],
   "source": [
    "# Save your notebook first, then run this cell to export your submission.\n",
    "grader.export(pdf=False, run_tests=True)"
   ]
  },
  {
   "cell_type": "markdown",
   "metadata": {},
   "source": [
    " "
   ]
  }
 ],
 "metadata": {
  "colab": {
   "collapsed_sections": [],
   "name": "Lab1.ipynb",
   "provenance": []
  },
  "kernelspec": {
   "display_name": "Python 3 (ipykernel)",
   "language": "python",
   "name": "python3"
  },
  "language_info": {
   "codemirror_mode": {
    "name": "ipython",
    "version": 3
   },
   "file_extension": ".py",
   "mimetype": "text/x-python",
   "name": "python",
   "nbconvert_exporter": "python",
   "pygments_lexer": "ipython3",
   "version": "3.12.4"
  },
  "otter": {
   "OK_FORMAT": true,
   "tests": {
    "multiply_matrices": {
     "name": "multiply_matrices",
     "points": 3,
     "suites": [
      {
       "cases": [],
       "scored": true,
       "setup": "",
       "teardown": "",
       "type": "doctest"
      }
     ]
    },
    "q1": {
     "name": "q1",
     "points": 3,
     "suites": [
      {
       "cases": [],
       "scored": true,
       "setup": "",
       "teardown": "",
       "type": "doctest"
      }
     ]
    },
    "q2": {
     "name": "q2",
     "points": 3,
     "suites": [
      {
       "cases": [],
       "scored": true,
       "setup": "",
       "teardown": "",
       "type": "doctest"
      }
     ]
    },
    "q3": {
     "name": "q3",
     "points": 3,
     "suites": [
      {
       "cases": [],
       "scored": true,
       "setup": "",
       "teardown": "",
       "type": "doctest"
      }
     ]
    },
    "q4": {
     "name": "q4",
     "points": 3,
     "suites": [
      {
       "cases": [],
       "scored": true,
       "setup": "",
       "teardown": "",
       "type": "doctest"
      }
     ]
    },
    "q5": {
     "name": "q5",
     "points": 3,
     "suites": [
      {
       "cases": [],
       "scored": true,
       "setup": "",
       "teardown": "",
       "type": "doctest"
      }
     ]
    }
   }
  }
 },
 "nbformat": 4,
 "nbformat_minor": 4
}
